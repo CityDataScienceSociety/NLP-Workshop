{
  "nbformat": 4,
  "nbformat_minor": 0,
  "metadata": {
    "kernelspec": {
      "display_name": "Python 3",
      "language": "python",
      "name": "python3"
    },
    "language_info": {
      "name": "python",
      "version": "3.6.4",
      "mimetype": "text/x-python",
      "codemirror_mode": {
        "name": "ipython",
        "version": 3
      },
      "pygments_lexer": "ipython3",
      "nbconvert_exporter": "python",
      "file_extension": ".py"
    },
    "colab": {
      "name": "NaturalLanguageProcessing.ipynb",
      "provenance": [],
      "collapsed_sections": []
    }
  },
  "cells": [
    {
      "cell_type": "markdown",
      "metadata": {
        "id": "xrEhWG7hQFz2"
      },
      "source": [
        "# Speech Recognition with AI\n",
        "Brought to you by Daniel Sikar - daniel.sikar@city.ac.uk\n",
        "and\n",
        "City Data Science Society - https://www.datasciencesociety.city/\n",
        "\n",
        "## Natural Language Processing with Convolutional Neural Networks\n",
        "\n",
        "From https://github.com/CityDataScienceSociety/ComputerVisionWorkshops/tree/main/detect-fire-with-AI\n",
        "\n",
        "Using a subset (\"yes\" and \"no\") of Tensorflow's Speech Commands Datasets. The full set consists of 30 words plus a background noise set: _background_noise_, bed, bird, cat, dog, down, eight, five, four, go, happy, house, left, marvin, no, nine, off, on, one, right, seven, sheila, six, stop, three, tree, two, up, wow, yes, zero.\n"
      ]
    },
    {
      "cell_type": "code",
      "metadata": {
        "colab": {
          "base_uri": "https://localhost:8080/"
        },
        "id": "LO0n_MKgKuAd",
        "outputId": "1d92ba73-4bab-4945-aaa3-81e760ae3ba3"
      },
      "source": [
        "# Get the data subset\n",
        "# Install PyDrive\n",
        "!pip install PyDrive\n",
        "\n",
        "#Import modules\n",
        "from pydrive.auth import GoogleAuth\n",
        "from pydrive.drive import GoogleDrive\n",
        "from google.colab import auth\n",
        "from oauth2client.client import GoogleCredentials\n",
        "\n",
        "#Authenticate and create the PyDrive client\n",
        "auth.authenticate_user()\n",
        "gauth = GoogleAuth()\n",
        "gauth.credentials = GoogleCredentials.get_application_default()\n",
        "drive = GoogleDrive(gauth)\n",
        "\n",
        "# Get the shareable link e.g. https://drive.google.com/file/d/1OrH0BKJUSvdl4P65b8XK2CoXcbCiIHnI/view?usp=sharing\n",
        "# Get the id from the link 1JYdxKasFKNfVqx2Iklj7iv_bwPanmi4j\n",
        "downloaded = drive.CreateFile({'id':\"1OrH0BKJUSvdl4P65b8XK2CoXcbCiIHnI\"})   \n",
        "downloaded.GetContentFile('input.tar.gz')   \n",
        "# Alternatively, if you are running the notebook locally, file can be downloaded by pasting shareable link\n",
        "# into browser"
      ],
      "execution_count": 125,
      "outputs": [
        {
          "output_type": "stream",
          "text": [
            "Requirement already satisfied: PyDrive in /usr/local/lib/python3.6/dist-packages (1.3.1)\n",
            "Requirement already satisfied: oauth2client>=4.0.0 in /usr/local/lib/python3.6/dist-packages (from PyDrive) (4.1.3)\n",
            "Requirement already satisfied: google-api-python-client>=1.2 in /usr/local/lib/python3.6/dist-packages (from PyDrive) (1.7.12)\n",
            "Requirement already satisfied: PyYAML>=3.0 in /usr/local/lib/python3.6/dist-packages (from PyDrive) (3.13)\n",
            "Requirement already satisfied: pyasn1>=0.1.7 in /usr/local/lib/python3.6/dist-packages (from oauth2client>=4.0.0->PyDrive) (0.4.8)\n",
            "Requirement already satisfied: httplib2>=0.9.1 in /usr/local/lib/python3.6/dist-packages (from oauth2client>=4.0.0->PyDrive) (0.17.4)\n",
            "Requirement already satisfied: six>=1.6.1 in /usr/local/lib/python3.6/dist-packages (from oauth2client>=4.0.0->PyDrive) (1.15.0)\n",
            "Requirement already satisfied: rsa>=3.1.4 in /usr/local/lib/python3.6/dist-packages (from oauth2client>=4.0.0->PyDrive) (4.6)\n",
            "Requirement already satisfied: pyasn1-modules>=0.0.5 in /usr/local/lib/python3.6/dist-packages (from oauth2client>=4.0.0->PyDrive) (0.2.8)\n",
            "Requirement already satisfied: google-auth-httplib2>=0.0.3 in /usr/local/lib/python3.6/dist-packages (from google-api-python-client>=1.2->PyDrive) (0.0.4)\n",
            "Requirement already satisfied: google-auth>=1.4.1 in /usr/local/lib/python3.6/dist-packages (from google-api-python-client>=1.2->PyDrive) (1.17.2)\n",
            "Requirement already satisfied: uritemplate<4dev,>=3.0.0 in /usr/local/lib/python3.6/dist-packages (from google-api-python-client>=1.2->PyDrive) (3.0.1)\n",
            "Requirement already satisfied: setuptools>=40.3.0 in /usr/local/lib/python3.6/dist-packages (from google-auth>=1.4.1->google-api-python-client>=1.2->PyDrive) (51.1.1)\n",
            "Requirement already satisfied: cachetools<5.0,>=2.0.0 in /usr/local/lib/python3.6/dist-packages (from google-auth>=1.4.1->google-api-python-client>=1.2->PyDrive) (4.2.0)\n"
          ],
          "name": "stdout"
        }
      ]
    },
    {
      "cell_type": "code",
      "metadata": {
        "id": "8U6RT8FNRku8"
      },
      "source": [
        "# list\n",
        "# !ls\n",
        "# unpack\n",
        "# !tar xvf input.tar.gz\n",
        "# !ls input/training_data\n",
        "# !ls input/training_data/no\n",
        "# !ls input/training_data/yes"
      ],
      "execution_count": null,
      "outputs": []
    },
    {
      "cell_type": "code",
      "metadata": {
        "trusted": true,
        "id": "F-8k0KFHVDU_"
      },
      "source": [
        "import os\n",
        "import librosa\n",
        "import IPython.display as ipd\n",
        "import matplotlib.pyplot as plt\n",
        "import numpy as np\n",
        "from scipy.io import wavfile\n",
        "import warnings\n",
        "warnings.filterwarnings(\"ignore\")"
      ],
      "execution_count": 24,
      "outputs": []
    },
    {
      "cell_type": "code",
      "metadata": {
        "colab": {
          "base_uri": "https://localhost:8080/"
        },
        "id": "UF3pcKTLY4F4",
        "outputId": "c6cac18b-3b28-42cc-8fda-9575007f0147"
      },
      "source": [
        "# what is the space available?\n",
        "!df -h"
      ],
      "execution_count": 136,
      "outputs": [
        {
          "output_type": "stream",
          "text": [
            "Filesystem      Size  Used Avail Use% Mounted on\n",
            "overlay         108G   33G   76G  30% /\n",
            "tmpfs            64M     0   64M   0% /dev\n",
            "tmpfs           6.4G     0  6.4G   0% /sys/fs/cgroup\n",
            "shm             5.9G  4.0K  5.9G   1% /dev/shm\n",
            "tmpfs           6.4G   32K  6.4G   1% /var/colab\n",
            "/dev/sda1       114G   37G   78G  32% /etc/hosts\n",
            "tmpfs           6.4G     0  6.4G   0% /proc/acpi\n",
            "tmpfs           6.4G     0  6.4G   0% /proc/scsi\n",
            "tmpfs           6.4G     0  6.4G   0% /sys/firmware\n"
          ],
          "name": "stdout"
        }
      ]
    },
    {
      "cell_type": "markdown",
      "metadata": {
        "id": "koNkhOEeVDVD"
      },
      "source": [
        "**Data Exploration and Visualization**\n",
        "\n",
        "Data Exploration and Visualization helps us to understand the data as well as pre-processing steps in a better way. \n",
        "\n",
        "**Visualization of Audio signal in time series domain**\n",
        "\n",
        "Now, we’ll visualize the audio signal in the time series domain:"
      ]
    },
    {
      "cell_type": "code",
      "metadata": {
        "trusted": true,
        "id": "PYAne6bsVDVE",
        "colab": {
          "base_uri": "https://localhost:8080/",
          "height": 320
        },
        "outputId": "1febbc87-14e2-4d97-f3e8-c29f0164ff8a"
      },
      "source": [
        "# about 20 Hz to 20 kHz\n",
        "# Humans can detect sounds in a frequency range from about 20 Hz to 20 kHz.\n",
        "train_audio_path = 'input/training_data/'\n",
        "samples, sample_rate = librosa.load(train_audio_path + 'yes/0a7c2a8d_nohash_0.wav', sr = 8000)\n",
        "fig = plt.figure(figsize=(14, 8))\n",
        "ax1 = fig.add_subplot(211)\n",
        "ax1.set_title('\"Yes\" - waveform for file ' + 'input/training_data/yes/0a7c2a8d_nohash_0.wav')\n",
        "ax1.set_xlabel('time')\n",
        "ax1.set_ylabel('Amplitude')\n",
        "ax1.plot(np.linspace(0, sample_rate/len(samples), sample_rate), samples)\n",
        "ipd.Audio(samples, rate=sample_rate)"
      ],
      "execution_count": 142,
      "outputs": [
        {
          "output_type": "execute_result",
          "data": {
            "text/html": [
              "\n",
              "                <audio controls=\"controls\" >\n",
              "                    <source src=\"data:audio/wav;base64,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\" type=\"audio/wav\" />\n",
              "                    Your browser does not support the audio element.\n",
              "                </audio>\n",
              "              "
            ],
            "text/plain": [
              "<IPython.lib.display.Audio object>"
            ]
          },
          "metadata": {
            "tags": []
          },
          "execution_count": 142
        },
        {
          "output_type": "display_data",
          "data": {
            "image/png": "[encoded data removed]",
            "text/plain": [
              "<Figure size 1008x576 with 1 Axes>"
            ]
          },
          "metadata": {
            "tags": [],
            "needs_background": "light"
          }
        }
      ]
    },
    {
      "cell_type": "code",
      "metadata": {
        "colab": {
          "base_uri": "https://localhost:8080/",
          "height": 320
        },
        "id": "yksflJfHM20A",
        "outputId": "8b3e22e6-4f0b-40b1-9e7a-62924897f5cf"
      },
      "source": [
        "train_audio_path = 'input/training_data/'\n",
        "samples, sample_rate = librosa.load(train_audio_path + 'no/f92e49f3_nohash_3.wav', sr = 8000)\n",
        "fig = plt.figure(figsize=(14, 8))\n",
        "ax1 = fig.add_subplot(211)\n",
        "ax1.set_title('\"NO\" - Waveform for file ' + 'input/training_data/no/f92e49f3_nohash_3.wav')\n",
        "ax1.set_xlabel('time')\n",
        "ax1.set_ylabel('Amplitude')\n",
        "ax1.plot(np.linspace(0, sample_rate/len(samples), sample_rate), samples)\n",
        "ipd.Audio(samples, rate=sample_rate)"
      ],
      "execution_count": 147,
      "outputs": [
        {
          "output_type": "execute_result",
          "data": {
            "text/html": [
              "\n",
              "                <audio controls=\"controls\" >\n",
              "                    <source src=\"data:audio/wav;base64,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\" type=\"audio/wav\" />\n",
              "                    Your browser does not support the audio element.\n",
              "                </audio>\n",
              "              "
            ],
            "text/plain": [
              "<IPython.lib.display.Audio object>"
            ]
          },
          "metadata": {
            "tags": []
          },
          "execution_count": 147
        },
        {
          "output_type": "display_data",
          "data": {
            "image/png": "[encoded data removed]",
            "text/plain": [
              "<Figure size 1008x576 with 1 Axes>"
            ]
          },
          "metadata": {
            "tags": [],
            "needs_background": "light"
          }
        }
      ]
    },
    {
      "cell_type": "code",
      "metadata": {
        "trusted": true,
        "id": "5TekJpdHVDVH",
        "colab": {
          "base_uri": "https://localhost:8080/"
        },
        "outputId": "be34bb3b-8b48-4dbf-f12b-e88426bcce5a"
      },
      "source": [
        "print(type(samples))\n",
        "print(samples.shape)"
      ],
      "execution_count": 152,
      "outputs": [
        {
          "output_type": "stream",
          "text": [
            "<class 'numpy.ndarray'>\n",
            "(8000,)\n"
          ],
          "name": "stdout"
        }
      ]
    },
    {
      "cell_type": "code",
      "metadata": {
        "trusted": true,
        "id": "-Y-mmIx7VDVJ"
      },
      "source": [
        "# Human voice: \n",
        "# In telephony, the usable voice frequency band ranges from approximately 300 to 3400 Hz\n",
        "# The bandwidth allocated for a single voice-frequency transmission channel is usually 4 kHz\n",
        "# Per the Nyquist–Shannon sampling theorem, the sampling frequency (8 kHz) must be at least twice \n",
        "# the highest component of the voice frequency via appropriate filtering prior to sampling at discrete \n",
        "# times (4 kHz) for effective reconstruction of the voice signal. \n",
        "\n",
        "# TODO plot frequency x ampliture"
      ],
      "execution_count": null,
      "outputs": []
    },
    {
      "cell_type": "code",
      "metadata": {
        "trusted": true,
        "id": "l4FepQniVDVK",
        "colab": {
          "base_uri": "https://localhost:8080/"
        },
        "outputId": "5f63489c-7a77-4315-8190-02a6e0fcfd91"
      },
      "source": [
        "labels=os.listdir(train_audio_path)\n",
        "print(\"Audio labels: \", labels)"
      ],
      "execution_count": 155,
      "outputs": [
        {
          "output_type": "stream",
          "text": [
            "Audio labels:  ['no', 'yes']\n"
          ],
          "name": "stdout"
        }
      ]
    },
    {
      "cell_type": "code",
      "metadata": {
        "trusted": true,
        "id": "c-v8oU4_VDVL",
        "colab": {
          "base_uri": "https://localhost:8080/",
          "height": 318
        },
        "outputId": "630b3a63-75a2-4126-d744-1f666b53ef71"
      },
      "source": [
        "#find count of each label and plot bar graph\n",
        "no_of_recordings=[]\n",
        "for label in labels:\n",
        "    waves = [f for f in os.listdir(train_audio_path + '/'+ label) if f.endswith('.wav')]\n",
        "    no_of_recordings.append(len(waves))\n",
        "    \n",
        "#plot\n",
        "plt.figure()\n",
        "index = np.arange(len(labels))\n",
        "plt.bar(index, no_of_recordings)\n",
        "plt.xlabel('Commands', fontsize=12)\n",
        "plt.ylabel('No of recordings', fontsize=12)\n",
        "plt.xticks(index, labels, fontsize=15, rotation=60)\n",
        "plt.title('No. of recordings for each command')\n",
        "plt.show()"
      ],
      "execution_count": 157,
      "outputs": [
        {
          "output_type": "display_data",
          "data": {
            "image/png": "[encoded data removed]",
            "text/plain": [
              "<Figure size 432x288 with 1 Axes>"
            ]
          },
          "metadata": {
            "tags": [],
            "needs_background": "light"
          }
        }
      ]
    },
    {
      "cell_type": "markdown",
      "metadata": {
        "id": "7GXI7vAUVDVM"
      },
      "source": [
        "**Duration of recordings**\n",
        "\n",
        "What’s next? A look at the distribution of the duration of recordings:"
      ]
    },
    {
      "cell_type": "code",
      "metadata": {
        "trusted": true,
        "id": "uOs6bFxoVDVM",
        "colab": {
          "base_uri": "https://localhost:8080/",
          "height": 352
        },
        "outputId": "62d21ebe-5a53-4748-eb45-58588eeeda1a"
      },
      "source": [
        "duration_of_recordings=[]\n",
        "for label in labels:\n",
        "    waves = [f for f in os.listdir(train_audio_path + '/'+ label) if f.endswith('.wav')]\n",
        "    for wav in waves:\n",
        "        sample_rate, samples = wavfile.read(train_audio_path + '/' + label + '/' + wav)\n",
        "        duration_of_recordings.append(float(len(samples)/sample_rate))\n",
        "    \n",
        "plt.hist(np.array(duration_of_recordings))"
      ],
      "execution_count": 158,
      "outputs": [
        {
          "output_type": "execute_result",
          "data": {
            "text/plain": [
              "(array([8.000e+00, 3.000e+00, 1.200e+01, 2.200e+01, 4.900e+01, 4.000e+01,\n",
              "        8.400e+01, 6.400e+01, 1.230e+02, 4.343e+03]),\n",
              " array([0.4645 , 0.51805, 0.5716 , 0.62515, 0.6787 , 0.73225, 0.7858 ,\n",
              "        0.83935, 0.8929 , 0.94645, 1.     ]),\n",
              " <a list of 10 Patch objects>)"
            ]
          },
          "metadata": {
            "tags": []
          },
          "execution_count": 158
        },
        {
          "output_type": "display_data",
          "data": {
            "image/png": "[encoded data removed]",
            "text/plain": [
              "<Figure size 432x288 with 1 Axes>"
            ]
          },
          "metadata": {
            "tags": [],
            "needs_background": "light"
          }
        }
      ]
    },
    {
      "cell_type": "markdown",
      "metadata": {
        "id": "pCteLkKjVDVN"
      },
      "source": [
        "**Preprocessing the audio waves**\n",
        "\n",
        "In the data exploration part earlier, we have seen that the duration of a few recordings is less than 1 second and the sampling rate is too high. So, let us read the audio waves and use the below-preprocessing steps to deal with this.\n",
        "\n",
        "Here are the two steps we’ll follow:\n",
        "\n",
        "* Resampling\n",
        "* Removing shorter commands of less than 1 second\n",
        "\n",
        "Let us define these preprocessing steps in the below code snippet:"
      ]
    },
    {
      "cell_type": "code",
      "metadata": {
        "trusted": true,
        "id": "EwZQZb2OVDVN",
        "colab": {
          "base_uri": "https://localhost:8080/"
        },
        "outputId": "051dc828-4ee2-4b6d-836a-0f6a6e649995"
      },
      "source": [
        "# 743s execution time\n",
        "train_audio_path = 'input/training_data'\n",
        "\n",
        "all_wave = []\n",
        "all_label = []\n",
        "for label in labels:\n",
        "    print(label)\n",
        "    waves = [f for f in os.listdir(train_audio_path + '/'+ label) if f.endswith('.wav')]\n",
        "    for wav in waves:\n",
        "        samples, sample_rate = librosa.load(train_audio_path + '/' + label + '/' + wav, sr = 8000)\n",
        "        #samples = librosa.resample(samples, sample_rate, 8000)\n",
        "        if(len(samples)== 8000) : \n",
        "            all_wave.append(samples)\n",
        "            all_label.append(label)"
      ],
      "execution_count": 159,
      "outputs": [
        {
          "output_type": "stream",
          "text": [
            "no\n",
            "yes\n"
          ],
          "name": "stdout"
        }
      ]
    },
    {
      "cell_type": "markdown",
      "metadata": {
        "id": "8wccoYDmVDVO"
      },
      "source": [
        "Convert the output labels to integer encoded:"
      ]
    },
    {
      "cell_type": "code",
      "metadata": {
        "trusted": true,
        "id": "Il8BsTOxVDVO",
        "colab": {
          "base_uri": "https://localhost:8080/"
        },
        "outputId": "e7eb61b2-6387-499c-a7ef-920d40cd7993"
      },
      "source": [
        "from sklearn.preprocessing import LabelEncoder\n",
        "le = LabelEncoder()\n",
        "y=le.fit_transform(all_label)\n",
        "classes= list(le.classes_)\n",
        "type(labels)"
      ],
      "execution_count": 162,
      "outputs": [
        {
          "output_type": "execute_result",
          "data": {
            "text/plain": [
              "list"
            ]
          },
          "metadata": {
            "tags": []
          },
          "execution_count": 162
        }
      ]
    },
    {
      "cell_type": "markdown",
      "metadata": {
        "id": "xLkG3xoHVDVP"
      },
      "source": [
        "Now, convert the integer encoded labels to a one-hot vector since it is a multi-classification problem:"
      ]
    },
    {
      "cell_type": "code",
      "metadata": {
        "trusted": true,
        "id": "gKz8IkKoVDVP"
      },
      "source": [
        "from keras.utils import np_utils\n",
        "y=np_utils.to_categorical(y, num_classes=len(labels))"
      ],
      "execution_count": 163,
      "outputs": []
    },
    {
      "cell_type": "markdown",
      "metadata": {
        "id": "GJnHIuQjVDVP"
      },
      "source": [
        "Reshape the 2D array to 3D since the input to the conv1d must be a 3D array:"
      ]
    },
    {
      "cell_type": "code",
      "metadata": {
        "trusted": true,
        "id": "4J9_wofFVDVQ"
      },
      "source": [
        "all_wave = np.array(all_wave).reshape(-1,8000,1)"
      ],
      "execution_count": 164,
      "outputs": []
    },
    {
      "cell_type": "markdown",
      "metadata": {
        "id": "VhKW07cqVDVQ"
      },
      "source": [
        "**Split into train and validation set**\n",
        "\n",
        "Next, we will train the model on 80% of the data and validate on the remaining 20%:\n"
      ]
    },
    {
      "cell_type": "code",
      "metadata": {
        "trusted": true,
        "id": "xMOgC_cYVDVR"
      },
      "source": [
        "from sklearn.model_selection import train_test_split\n",
        "x_tr, x_val, y_tr, y_val = train_test_split(np.array(all_wave),np.array(y),stratify=y,test_size = 0.2,random_state=777,shuffle=True)"
      ],
      "execution_count": 166,
      "outputs": []
    },
    {
      "cell_type": "markdown",
      "metadata": {
        "id": "5bqEi398VDVR"
      },
      "source": [
        "**Model Architecture for this problem**\n",
        "\n",
        "We will build the speech-to-text model using conv1d. Conv1d is a convolutional neural network which performs the convolution along only one dimension. "
      ]
    },
    {
      "cell_type": "markdown",
      "metadata": {
        "id": "Z93-K5A4VDVR"
      },
      "source": [
        "**Model building**\n",
        "\n",
        "Let us implement the model using Keras functional API."
      ]
    },
    {
      "cell_type": "code",
      "metadata": {
        "trusted": true,
        "id": "rByRV5zmVDVR",
        "colab": {
          "base_uri": "https://localhost:8080/"
        },
        "outputId": "bc8f8576-06f9-4a50-e7ae-70e1b4bf44a4"
      },
      "source": [
        "from keras.layers import Dense, Dropout, Flatten, Conv1D, Input, MaxPooling1D\n",
        "from keras.models import Model\n",
        "from keras.callbacks import EarlyStopping, ModelCheckpoint\n",
        "from keras import backend as K\n",
        "K.clear_session()\n",
        "\n",
        "inputs = Input(shape=(8000,1))\n",
        "\n",
        "#First Conv1D layer\n",
        "conv = Conv1D(8,13, padding='valid', activation='relu', strides=1)(inputs)\n",
        "conv = MaxPooling1D(3)(conv)\n",
        "conv = Dropout(0.3)(conv)\n",
        "\n",
        "#Second Conv1D layer\n",
        "conv = Conv1D(16, 11, padding='valid', activation='relu', strides=1)(conv)\n",
        "conv = MaxPooling1D(3)(conv)\n",
        "conv = Dropout(0.3)(conv)\n",
        "\n",
        "#Third Conv1D layer\n",
        "conv = Conv1D(32, 9, padding='valid', activation='relu', strides=1)(conv)\n",
        "conv = MaxPooling1D(3)(conv)\n",
        "conv = Dropout(0.3)(conv)\n",
        "\n",
        "#Fourth Conv1D layer\n",
        "conv = Conv1D(64, 7, padding='valid', activation='relu', strides=1)(conv)\n",
        "conv = MaxPooling1D(3)(conv)\n",
        "conv = Dropout(0.3)(conv)\n",
        "\n",
        "#Flatten layer\n",
        "conv = Flatten()(conv)\n",
        "\n",
        "#Dense Layer 1\n",
        "conv = Dense(256, activation='relu')(conv)\n",
        "conv = Dropout(0.3)(conv)\n",
        "\n",
        "#Dense Layer 2\n",
        "conv = Dense(128, activation='relu')(conv)\n",
        "conv = Dropout(0.3)(conv)\n",
        "\n",
        "outputs = Dense(len(labels), activation='softmax')(conv)\n",
        "\n",
        "model = Model(inputs, outputs)\n",
        "model.summary()"
      ],
      "execution_count": 168,
      "outputs": [
        {
          "output_type": "stream",
          "text": [
            "Model: \"model\"\n",
            "_________________________________________________________________\n",
            "Layer (type)                 Output Shape              Param #   \n",
            "=================================================================\n",
            "input_1 (InputLayer)         [(None, 8000, 1)]         0         \n",
            "_________________________________________________________________\n",
            "conv1d (Conv1D)              (None, 7988, 8)           112       \n",
            "_________________________________________________________________\n",
            "max_pooling1d (MaxPooling1D) (None, 2662, 8)           0         \n",
            "_________________________________________________________________\n",
            "dropout (Dropout)            (None, 2662, 8)           0         \n",
            "_________________________________________________________________\n",
            "conv1d_1 (Conv1D)            (None, 2652, 16)          1424      \n",
            "_________________________________________________________________\n",
            "max_pooling1d_1 (MaxPooling1 (None, 884, 16)           0         \n",
            "_________________________________________________________________\n",
            "dropout_1 (Dropout)          (None, 884, 16)           0         \n",
            "_________________________________________________________________\n",
            "conv1d_2 (Conv1D)            (None, 876, 32)           4640      \n",
            "_________________________________________________________________\n",
            "max_pooling1d_2 (MaxPooling1 (None, 292, 32)           0         \n",
            "_________________________________________________________________\n",
            "dropout_2 (Dropout)          (None, 292, 32)           0         \n",
            "_________________________________________________________________\n",
            "conv1d_3 (Conv1D)            (None, 286, 64)           14400     \n",
            "_________________________________________________________________\n",
            "max_pooling1d_3 (MaxPooling1 (None, 95, 64)            0         \n",
            "_________________________________________________________________\n",
            "dropout_3 (Dropout)          (None, 95, 64)            0         \n",
            "_________________________________________________________________\n",
            "flatten (Flatten)            (None, 6080)              0         \n",
            "_________________________________________________________________\n",
            "dense (Dense)                (None, 256)               1556736   \n",
            "_________________________________________________________________\n",
            "dropout_4 (Dropout)          (None, 256)               0         \n",
            "_________________________________________________________________\n",
            "dense_1 (Dense)              (None, 128)               32896     \n",
            "_________________________________________________________________\n",
            "dropout_5 (Dropout)          (None, 128)               0         \n",
            "_________________________________________________________________\n",
            "dense_2 (Dense)              (None, 2)                 258       \n",
            "=================================================================\n",
            "Total params: 1,610,466\n",
            "Trainable params: 1,610,466\n",
            "Non-trainable params: 0\n",
            "_________________________________________________________________\n"
          ],
          "name": "stdout"
        }
      ]
    },
    {
      "cell_type": "markdown",
      "metadata": {
        "id": "3Rbfe9b0VDVS"
      },
      "source": [
        "Define the loss function to be categorical cross-entropy since it is a multi-classification problem:"
      ]
    },
    {
      "cell_type": "code",
      "metadata": {
        "trusted": true,
        "id": "4JO7e5ktVDVS"
      },
      "source": [
        "model.compile(loss='categorical_crossentropy',optimizer='adam',metrics=['accuracy'])"
      ],
      "execution_count": 169,
      "outputs": []
    },
    {
      "cell_type": "markdown",
      "metadata": {
        "id": "5Ry3Vx_mVDVT"
      },
      "source": [
        "Early stopping and model checkpoints are the callbacks to stop training the neural network at the right time and to save the best model after every epoch:"
      ]
    },
    {
      "cell_type": "code",
      "metadata": {
        "trusted": true,
        "id": "ZKy96wwLVDVT"
      },
      "source": [
        "es = EarlyStopping(monitor='val_loss', mode='min', verbose=1, patience=5, min_delta=0.0001) \n",
        "mc = ModelCheckpoint('best_model.hdf5', monitor='val_acc', verbose=1, save_best_only=True, mode='max')"
      ],
      "execution_count": 170,
      "outputs": []
    },
    {
      "cell_type": "markdown",
      "metadata": {
        "id": "CZFVT1MNVDVT"
      },
      "source": [
        "Let us train the model on a batch size of 32 and evaluate the performance on the holdout set:"
      ]
    },
    {
      "cell_type": "code",
      "metadata": {
        "trusted": true,
        "id": "nTxvY0SRVDVT",
        "colab": {
          "base_uri": "https://localhost:8080/"
        },
        "outputId": "51e4b263-c9ce-44ee-c96c-165b1747a060"
      },
      "source": [
        "# execution time 258s\n",
        "history=model.fit(x_tr, y_tr ,epochs=10, callbacks=[es,mc], batch_size=32, validation_data=(x_val,y_val))"
      ],
      "execution_count": 171,
      "outputs": [
        {
          "output_type": "stream",
          "text": [
            "Epoch 1/10\n",
            "107/107 [==============================] - 27s 240ms/step - loss: 0.6701 - accuracy: 0.5797 - val_loss: 0.5922 - val_accuracy: 0.6675\n",
            "WARNING:tensorflow:Can save best model only with val_acc available, skipping.\n",
            "Epoch 2/10\n",
            "107/107 [==============================] - 25s 237ms/step - loss: 0.5187 - accuracy: 0.7645 - val_loss: 0.5033 - val_accuracy: 0.7673\n",
            "WARNING:tensorflow:Can save best model only with val_acc available, skipping.\n",
            "Epoch 3/10\n",
            "107/107 [==============================] - 25s 237ms/step - loss: 0.4181 - accuracy: 0.8153 - val_loss: 0.3901 - val_accuracy: 0.8214\n",
            "WARNING:tensorflow:Can save best model only with val_acc available, skipping.\n",
            "Epoch 4/10\n",
            "107/107 [==============================] - 25s 238ms/step - loss: 0.3478 - accuracy: 0.8565 - val_loss: 0.3739 - val_accuracy: 0.8331\n",
            "WARNING:tensorflow:Can save best model only with val_acc available, skipping.\n",
            "Epoch 5/10\n",
            "107/107 [==============================] - 25s 237ms/step - loss: 0.2937 - accuracy: 0.8838 - val_loss: 0.2994 - val_accuracy: 0.8672\n",
            "WARNING:tensorflow:Can save best model only with val_acc available, skipping.\n",
            "Epoch 6/10\n",
            "107/107 [==============================] - 25s 237ms/step - loss: 0.2527 - accuracy: 0.8922 - val_loss: 0.3440 - val_accuracy: 0.8461\n",
            "WARNING:tensorflow:Can save best model only with val_acc available, skipping.\n",
            "Epoch 7/10\n",
            "107/107 [==============================] - 27s 256ms/step - loss: 0.2399 - accuracy: 0.9061 - val_loss: 0.2894 - val_accuracy: 0.8731\n",
            "WARNING:tensorflow:Can save best model only with val_acc available, skipping.\n",
            "Epoch 8/10\n",
            "107/107 [==============================] - 25s 237ms/step - loss: 0.2419 - accuracy: 0.9021 - val_loss: 0.3101 - val_accuracy: 0.8531\n",
            "WARNING:tensorflow:Can save best model only with val_acc available, skipping.\n",
            "Epoch 9/10\n",
            "107/107 [==============================] - 25s 237ms/step - loss: 0.2296 - accuracy: 0.9142 - val_loss: 0.2401 - val_accuracy: 0.8942\n",
            "WARNING:tensorflow:Can save best model only with val_acc available, skipping.\n",
            "Epoch 10/10\n",
            "107/107 [==============================] - 25s 238ms/step - loss: 0.1927 - accuracy: 0.9229 - val_loss: 0.2661 - val_accuracy: 0.8895\n",
            "WARNING:tensorflow:Can save best model only with val_acc available, skipping.\n"
          ],
          "name": "stdout"
        }
      ]
    },
    {
      "cell_type": "markdown",
      "metadata": {
        "id": "dmFKmJMBVDVU"
      },
      "source": [
        "**Diagnostic plot**\n",
        "\n",
        "I’m going to lean on visualization again to understand the performance of the model over a period of time:"
      ]
    },
    {
      "cell_type": "code",
      "metadata": {
        "trusted": true,
        "id": "m59CuQffVDVU",
        "colab": {
          "base_uri": "https://localhost:8080/",
          "height": 265
        },
        "outputId": "ceb31709-5af0-47b3-bdde-a5e6cbac6c57"
      },
      "source": [
        "from matplotlib import pyplot\n",
        "pyplot.plot(history.history['loss'], label='train_loss')\n",
        "pyplot.plot(history.history['val_loss'], label='test_loss')\n",
        "plt.plot(history.history['accuracy'], label='train_acc')\n",
        "plt.plot(history.history['val_accuracy'], label='val_acc')\n",
        "pyplot.legend()\n",
        "pyplot.show()"
      ],
      "execution_count": 172,
      "outputs": [
        {
          "output_type": "display_data",
          "data": {
            "image/png": "[encoded data removed]",
            "text/plain": [
              "<Figure size 432x288 with 1 Axes>"
            ]
          },
          "metadata": {
            "tags": [],
            "needs_background": "light"
          }
        }
      ]
    },
    {
      "cell_type": "markdown",
      "metadata": {
        "id": "i2wwJyKcVDVU"
      },
      "source": [
        "**Loading the best model**"
      ]
    },
    {
      "cell_type": "code",
      "metadata": {
        "trusted": true,
        "id": "bTFy_piaVDVV",
        "colab": {
          "base_uri": "https://localhost:8080/",
          "height": 330
        },
        "outputId": "f05274a3-7751-442d-b608-36babc1eb7cd"
      },
      "source": [
        "from keras.models import load_model\n",
        "model=load_model('best_model.hdf5')"
      ],
      "execution_count": 173,
      "outputs": [
        {
          "output_type": "error",
          "ename": "OSError",
          "evalue": "ignored",
          "traceback": [
            "\u001b[0;31m---------------------------------------------------------------------------\u001b[0m",
            "\u001b[0;31mOSError\u001b[0m                                   Traceback (most recent call last)",
            "\u001b[0;32m<ipython-input-173-e8c5aeef3bd9>\u001b[0m in \u001b[0;36m<module>\u001b[0;34m()\u001b[0m\n\u001b[1;32m      1\u001b[0m \u001b[0;32mfrom\u001b[0m \u001b[0mkeras\u001b[0m\u001b[0;34m.\u001b[0m\u001b[0mmodels\u001b[0m \u001b[0;32mimport\u001b[0m \u001b[0mload_model\u001b[0m\u001b[0;34m\u001b[0m\u001b[0;34m\u001b[0m\u001b[0m\n\u001b[0;32m----> 2\u001b[0;31m \u001b[0mmodel\u001b[0m\u001b[0;34m=\u001b[0m\u001b[0mload_model\u001b[0m\u001b[0;34m(\u001b[0m\u001b[0;34m'best_model.hdf5'\u001b[0m\u001b[0;34m)\u001b[0m\u001b[0;34m\u001b[0m\u001b[0;34m\u001b[0m\u001b[0m\n\u001b[0m",
            "\u001b[0;32m/usr/local/lib/python3.6/dist-packages/tensorflow/python/keras/saving/save.py\u001b[0m in \u001b[0;36mload_model\u001b[0;34m(filepath, custom_objects, compile, options)\u001b[0m\n\u001b[1;32m    209\u001b[0m       \u001b[0mfilepath\u001b[0m \u001b[0;34m=\u001b[0m \u001b[0mpath_to_string\u001b[0m\u001b[0;34m(\u001b[0m\u001b[0mfilepath\u001b[0m\u001b[0;34m)\u001b[0m\u001b[0;34m\u001b[0m\u001b[0;34m\u001b[0m\u001b[0m\n\u001b[1;32m    210\u001b[0m       \u001b[0;32mif\u001b[0m \u001b[0misinstance\u001b[0m\u001b[0;34m(\u001b[0m\u001b[0mfilepath\u001b[0m\u001b[0;34m,\u001b[0m \u001b[0msix\u001b[0m\u001b[0;34m.\u001b[0m\u001b[0mstring_types\u001b[0m\u001b[0;34m)\u001b[0m\u001b[0;34m:\u001b[0m\u001b[0;34m\u001b[0m\u001b[0;34m\u001b[0m\u001b[0m\n\u001b[0;32m--> 211\u001b[0;31m         \u001b[0mloader_impl\u001b[0m\u001b[0;34m.\u001b[0m\u001b[0mparse_saved_model\u001b[0m\u001b[0;34m(\u001b[0m\u001b[0mfilepath\u001b[0m\u001b[0;34m)\u001b[0m\u001b[0;34m\u001b[0m\u001b[0;34m\u001b[0m\u001b[0m\n\u001b[0m\u001b[1;32m    212\u001b[0m         \u001b[0;32mreturn\u001b[0m \u001b[0msaved_model_load\u001b[0m\u001b[0;34m.\u001b[0m\u001b[0mload\u001b[0m\u001b[0;34m(\u001b[0m\u001b[0mfilepath\u001b[0m\u001b[0;34m,\u001b[0m \u001b[0mcompile\u001b[0m\u001b[0;34m,\u001b[0m \u001b[0moptions\u001b[0m\u001b[0;34m)\u001b[0m\u001b[0;34m\u001b[0m\u001b[0;34m\u001b[0m\u001b[0m\n\u001b[1;32m    213\u001b[0m \u001b[0;34m\u001b[0m\u001b[0m\n",
            "\u001b[0;32m/usr/local/lib/python3.6/dist-packages/tensorflow/python/saved_model/loader_impl.py\u001b[0m in \u001b[0;36mparse_saved_model\u001b[0;34m(export_dir)\u001b[0m\n\u001b[1;32m    112\u001b[0m                   (export_dir,\n\u001b[1;32m    113\u001b[0m                    \u001b[0mconstants\u001b[0m\u001b[0;34m.\u001b[0m\u001b[0mSAVED_MODEL_FILENAME_PBTXT\u001b[0m\u001b[0;34m,\u001b[0m\u001b[0;34m\u001b[0m\u001b[0;34m\u001b[0m\u001b[0m\n\u001b[0;32m--> 114\u001b[0;31m                    constants.SAVED_MODEL_FILENAME_PB))\n\u001b[0m\u001b[1;32m    115\u001b[0m \u001b[0;34m\u001b[0m\u001b[0m\n\u001b[1;32m    116\u001b[0m \u001b[0;34m\u001b[0m\u001b[0m\n",
            "\u001b[0;31mOSError\u001b[0m: SavedModel file does not exist at: best_model.hdf5/{saved_model.pbtxt|saved_model.pb}"
          ]
        }
      ]
    },
    {
      "cell_type": "markdown",
      "metadata": {
        "id": "sBc6L2bsVDVV"
      },
      "source": [
        "Define the function that predicts text for the given audio:"
      ]
    },
    {
      "cell_type": "code",
      "metadata": {
        "trusted": true,
        "id": "hJsFQBK3VDVV"
      },
      "source": [
        "def predict(audio):\n",
        "    prob=model.predict(audio.reshape(1,8000,1))\n",
        "    index=np.argmax(prob[0])\n",
        "    return prob, classes[index]"
      ],
      "execution_count": 174,
      "outputs": []
    },
    {
      "cell_type": "markdown",
      "metadata": {
        "id": "foZlaOhcVDVV"
      },
      "source": [
        "Prediction time! Make predictions on the validation data:"
      ]
    },
    {
      "cell_type": "code",
      "metadata": {
        "trusted": true,
        "id": "i1AxW5OWVDVX",
        "colab": {
          "base_uri": "https://localhost:8080/",
          "height": 235
        },
        "outputId": "f00d6df2-f8a7-4cf2-e0ed-e336b5401e9b"
      },
      "source": [
        "import random\n",
        "print(\"len(x_val):\", len(x_val))\n",
        "index=random.randint(0,len(x_val)-1)\n",
        "print(\"index:\", index)\n",
        "samples=x_val[index].ravel() # x_val[index] shape: (8000, 1), \"samples\" shape: (8000,)\n",
        "print(\"x_val[index]:\", x_val[index])\n",
        "print(\"Audio:\",classes[np.argmax(y_val[index])])\n",
        "ipd.Audio(samples, rate=8000)"
      ],
      "execution_count": 181,
      "outputs": [
        {
          "output_type": "stream",
          "text": [
            "len(x_val): 851\n",
            "index: 150\n",
            "x_val[index]: [[ 0.0000000e+00]\n",
            " [ 3.0517578e-05]\n",
            " [ 3.0517578e-05]\n",
            " ...\n",
            " [-3.0517578e-05]\n",
            " [-3.3569336e-04]\n",
            " [-3.9672852e-04]]\n",
            "Audio: yes\n"
          ],
          "name": "stdout"
        },
        {
          "output_type": "execute_result",
          "data": {
            "text/html": [
              "\n",
              "                <audio controls=\"controls\" >\n",
              "                    <source src=\"data:audio/wav;base64,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\" type=\"audio/wav\" />\n",
              "                    Your browser does not support the audio element.\n",
              "                </audio>\n",
              "              "
            ],
            "text/plain": [
              "<IPython.lib.display.Audio object>"
            ]
          },
          "metadata": {
            "tags": []
          },
          "execution_count": 181
        }
      ]
    },
    {
      "cell_type": "code",
      "metadata": {
        "colab": {
          "base_uri": "https://localhost:8080/"
        },
        "id": "G_X2VM9RA6zM",
        "outputId": "4d35b2de-e7ae-4564-d5fa-4bf0f65ca07d"
      },
      "source": [
        "# x_val[index].shape\n",
        "# (8000, 1)\n",
        "# x_val[index]: x_val[index]: [[ 0.00422602]\n",
        "# [ 0.01268432]\n",
        "# [ 0.00283716]\n",
        "# ...\n",
        "# xr = x_val[index].ravel()\n",
        "# type(xr) # numpy.ndarray\n",
        "# type(x_val[index]) # numpy.ndarray\n",
        "# xr.shape # (8000,)\n",
        "# xr: array([-0.00036546, -0.00062576,  0.00048751, ..., -0.0003528 ,\n",
        "y_val[index]"
      ],
      "execution_count": 113,
      "outputs": [
        {
          "output_type": "execute_result",
          "data": {
            "text/plain": [
              "array([1., 0.], dtype=float32)"
            ]
          },
          "metadata": {
            "tags": []
          },
          "execution_count": 113
        }
      ]
    }
  ]
}