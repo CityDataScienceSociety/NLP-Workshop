{
 "cells": [
  {
   "cell_type": "markdown",
   "metadata": {
    "id": "xrEhWG7hQFz2"
   },
   "source": [
    "# Speech Recognition with AI\n",
    "Brought to you by Daniel Sikar - daniel.sikar@city.ac.uk\n",
    "and\n",
    "City Data Science Society - https://www.datasciencesociety.city/\n",
    "\n",
    "## Natural Language Processing with Convolutional Neural Networks\n",
    "\n",
    "Notebook: https://github.com/dsikar/natural-language-processing/blob/master/NaturalLanguageProcessing.ipynb\n",
    "\n",
    "Tensorflow's Speech Commands Datasets: http://download.tensorflow.org/data/speech_commands_v0.01.tar.gz\n",
    "\n",
    "Consisting of:\n",
    "* 65,000 one-second long utterances\n",
    "* 30 short words plus a background noise set\n",
    "* Thousands of different people\n",
    "\n",
    "Using a subset (\"yes\" and \"no\") of Tensorflow's Speech Commands Datasets. The full set consists of 30 words plus a background noise set: _background_noise_, bed, bird, cat, dog, down, eight, five, four, go, happy, house, left, marvin, no, nine, off, on, one, right, seven, sheila, six, stop, three, tree, two, up, wow, yes, zero.\n",
    "\n",
    "Note: In this workshop, we will **not** use the full dataset."
   ]
  },
  {
   "cell_type": "code",
   "execution_count": null,
   "metadata": {
    "colab": {
     "base_uri": "https://localhost:8080/"
    },
    "id": "LO0n_MKgKuAd",
    "outputId": "1d92ba73-4bab-4945-aaa3-81e760ae3ba3"
   },
   "outputs": [],
   "source": [
    "# Get the data subset\n",
    "# Install PyDrive\n",
    "!pip install PyDrive\n",
    "\n",
    "#Import modules\n",
    "from pydrive.auth import GoogleAuth\n",
    "from pydrive.drive import GoogleDrive\n",
    "from google.colab import auth\n",
    "from oauth2client.client import GoogleCredentials\n",
    "\n",
    "#Authenticate and create the PyDrive client\n",
    "auth.authenticate_user()\n",
    "gauth = GoogleAuth()\n",
    "gauth.credentials = GoogleCredentials.get_application_default()\n",
    "drive = GoogleDrive(gauth)\n",
    "\n",
    "# Get the shareable link e.g. https://drive.google.com/file/d/1OebaOg7YlGHa1UYQDIpPOuNWNTn2AHlq/view?usp=sharing\n",
    "# Get the id from the link 1OebaOg7YlGHa1UYQDIpPOuNWNTn2AHlq\n",
    "downloaded = drive.CreateFile({'id':\"1OebaOg7YlGHa1UYQDIpPOuNWNTn2AHlq\"})   \n",
    "downloaded.GetContentFile('nlp-dataset.tar.gz')   \n",
    "# Alternatively, if you are running the notebook locally, file can be downloaded by pasting shareable link\n",
    "# into browser"
   ]
  },
  {
   "cell_type": "code",
   "execution_count": null,
   "metadata": {
    "id": "8U6RT8FNRku8"
   },
   "outputs": [],
   "source": [
    "# list\n",
    "# !ls\n",
    "# unpack\n",
    "# !tar xvf nlp-dataset.tar.gz\n",
    "# !ls dataset/training\n",
    "# !ls dataset/training/no\n",
    "# !ls dataset/training/yes"
   ]
  },
  {
   "cell_type": "code",
   "execution_count": null,
   "metadata": {
    "id": "F-8k0KFHVDU_"
   },
   "outputs": [],
   "source": [
    "import os\n",
    "import librosa\n",
    "import IPython.display as ipd\n",
    "import matplotlib.pyplot as plt\n",
    "import numpy as np\n",
    "from scipy.io import wavfile\n",
    "import warnings\n",
    "warnings.filterwarnings(\"ignore\")"
   ]
  },
  {
   "cell_type": "code",
   "execution_count": null,
   "metadata": {
    "colab": {
     "base_uri": "https://localhost:8080/"
    },
    "id": "UF3pcKTLY4F4",
    "outputId": "c6cac18b-3b28-42cc-8fda-9575007f0147"
   },
   "outputs": [],
   "source": [
    "# what is the space available?\n",
    "!df -h"
   ]
  },
  {
   "cell_type": "markdown",
   "metadata": {
    "id": "koNkhOEeVDVD"
   },
   "source": [
    "**Data Exploration and Visualization**\n",
    "\n",
    "Data Exploration and Visualization helps us to understand the data as well as pre-processing steps in a better way. \n",
    "\n",
    "**Visualization of Audio signal in time series domain**\n",
    "\n",
    "Now, we’ll visualize the audio signal in the time series domain:"
   ]
  },
  {
   "cell_type": "code",
   "execution_count": null,
   "metadata": {
    "colab": {
     "base_uri": "https://localhost:8080/",
     "height": 320
    },
    "id": "PYAne6bsVDVE",
    "outputId": "1febbc87-14e2-4d97-f3e8-c29f0164ff8a"
   },
   "outputs": [],
   "source": [
    "# about 20 Hz to 20 kHz\n",
    "# Humans can detect sounds in a frequency range from about 20 Hz to 20 kHz.\n",
    "train_audio_path = 'dataset/training/'\n",
    "samples, sample_rate = librosa.load(train_audio_path + 'yes/8d8d9855_nohash_0.wav', sr = 8000)\n",
    "fig = plt.figure(figsize=(14, 8))\n",
    "ax1 = fig.add_subplot(211)\n",
    "ax1.set_title('\"Yes\" - waveform for file ' + 'dataset/training/yes/8d8d9855_nohash_0.wav')\n",
    "ax1.set_xlabel('time')\n",
    "ax1.set_ylabel('Amplitude')\n",
    "ax1.plot(np.linspace(0, sample_rate/len(samples), sample_rate), samples)\n",
    "ipd.Audio(samples, rate=sample_rate)"
   ]
  },
  {
   "cell_type": "code",
   "execution_count": null,
   "metadata": {
    "colab": {
     "base_uri": "https://localhost:8080/",
     "height": 320
    },
    "id": "yksflJfHM20A",
    "outputId": "8b3e22e6-4f0b-40b1-9e7a-62924897f5cf"
   },
   "outputs": [],
   "source": [
    "train_audio_path = 'dataset/training/'\n",
    "samples, sample_rate = librosa.load(train_audio_path + 'no/8a194ee6_nohash_0.wav', sr = 8000)\n",
    "fig = plt.figure(figsize=(14, 8))\n",
    "ax1 = fig.add_subplot(211)\n",
    "ax1.set_title('\"NO\" - Waveform for file ' + 'dataset/training//no/8a194ee6_nohash_0.wav')\n",
    "ax1.set_xlabel('time')\n",
    "ax1.set_ylabel('Amplitude')\n",
    "ax1.plot(np.linspace(0, sample_rate/len(samples), sample_rate), samples)\n",
    "ipd.Audio(samples, rate=sample_rate)"
   ]
  },
  {
   "cell_type": "code",
   "execution_count": null,
   "metadata": {
    "colab": {
     "base_uri": "https://localhost:8080/"
    },
    "id": "5TekJpdHVDVH",
    "outputId": "be34bb3b-8b48-4dbf-f12b-e88426bcce5a"
   },
   "outputs": [],
   "source": [
    "print(type(samples))\n",
    "print(samples.shape)"
   ]
  },
  {
   "cell_type": "code",
   "execution_count": null,
   "metadata": {
    "id": "-Y-mmIx7VDVJ"
   },
   "outputs": [],
   "source": [
    "# Human voice: \n",
    "# In telephony, the usable voice frequency band ranges from approximately 300 to 3400 Hz\n",
    "# The bandwidth allocated for a single voice-frequency transmission channel is usually 4 kHz\n",
    "# Per the Nyquist–Shannon sampling theorem, the sampling frequency (8 kHz) must be at least twice \n",
    "# the highest component of the voice frequency via appropriate filtering prior to sampling at discrete \n",
    "# times (4 kHz) for effective reconstruction of the voice signal. \n",
    "\n",
    "# TODO plot frequency x ampliture"
   ]
  },
  {
   "cell_type": "code",
   "execution_count": null,
   "metadata": {
    "colab": {
     "base_uri": "https://localhost:8080/"
    },
    "id": "l4FepQniVDVK",
    "outputId": "5f63489c-7a77-4315-8190-02a6e0fcfd91"
   },
   "outputs": [],
   "source": [
    "labels=os.listdir(train_audio_path)\n",
    "print(\"Audio labels: \", labels)"
   ]
  },
  {
   "cell_type": "code",
   "execution_count": null,
   "metadata": {
    "colab": {
     "base_uri": "https://localhost:8080/",
     "height": 318
    },
    "id": "c-v8oU4_VDVL",
    "outputId": "630b3a63-75a2-4126-d744-1f666b53ef71"
   },
   "outputs": [],
   "source": [
    "#find count of each label and plot bar graph\n",
    "no_of_recordings=[]\n",
    "for label in labels:\n",
    "    waves = [f for f in os.listdir(train_audio_path + '/'+ label) if f.endswith('.wav')]\n",
    "    no_of_recordings.append(len(waves))\n",
    "    \n",
    "#plot\n",
    "plt.figure()\n",
    "index = np.arange(len(labels))\n",
    "plt.bar(index, no_of_recordings)\n",
    "plt.xlabel('Commands', fontsize=12)\n",
    "plt.ylabel('No of recordings', fontsize=12)\n",
    "plt.xticks(index, labels, fontsize=15, rotation=60)\n",
    "plt.title('No. of recordings for each command')\n",
    "plt.show()"
   ]
  },
  {
   "cell_type": "markdown",
   "metadata": {
    "id": "7GXI7vAUVDVM"
   },
   "source": [
    "**Duration of recordings**\n",
    "\n",
    "What’s next? A look at the distribution of the duration of recordings:"
   ]
  },
  {
   "cell_type": "code",
   "execution_count": null,
   "metadata": {
    "colab": {
     "base_uri": "https://localhost:8080/",
     "height": 352
    },
    "id": "uOs6bFxoVDVM",
    "outputId": "62d21ebe-5a53-4748-eb45-58588eeeda1a"
   },
   "outputs": [],
   "source": [
    "duration_of_recordings=[]\n",
    "for label in labels:\n",
    "    waves = [f for f in os.listdir(train_audio_path + '/'+ label) if f.endswith('.wav')]\n",
    "    for wav in waves:\n",
    "        sample_rate, samples = wavfile.read(train_audio_path + '/' + label + '/' + wav)\n",
    "        duration_of_recordings.append(float(len(samples)/sample_rate))\n",
    "    \n",
    "plt.hist(np.array(duration_of_recordings))"
   ]
  },
  {
   "cell_type": "markdown",
   "metadata": {
    "id": "pCteLkKjVDVN"
   },
   "source": [
    "**Preprocessing the audio waves**\n",
    "\n",
    "In the data exploration part earlier, we have seen that the duration of a few recordings is less than 1 second and the sampling rate is too high. So, let us read the audio waves and use the below-preprocessing steps to deal with this.\n",
    "\n",
    "Here are the two steps we’ll follow:\n",
    "\n",
    "* Resampling\n",
    "* Removing shorter commands of less than 1 second\n",
    "\n",
    "Let us define these preprocessing steps in the below code snippet:"
   ]
  },
  {
   "cell_type": "code",
   "execution_count": null,
   "metadata": {
    "colab": {
     "base_uri": "https://localhost:8080/"
    },
    "id": "EwZQZb2OVDVN",
    "outputId": "051dc828-4ee2-4b6d-836a-0f6a6e649995"
   },
   "outputs": [],
   "source": [
    "# 743s execution time\n",
    "train_audio_path = 'dataset/training'\n",
    "\n",
    "all_wave = []\n",
    "all_label = []\n",
    "for label in labels:\n",
    "    print(label)\n",
    "    waves = [f for f in os.listdir(train_audio_path + '/'+ label) if f.endswith('.wav')]\n",
    "    for wav in waves:\n",
    "        samples, sample_rate = librosa.load(train_audio_path + '/' + label + '/' + wav, sr = 8000)\n",
    "        #samples = librosa.resample(samples, sample_rate, 8000)\n",
    "        if(len(samples)== 8000) : \n",
    "            all_wave.append(samples)\n",
    "            all_label.append(label)"
   ]
  },
  {
   "cell_type": "markdown",
   "metadata": {
    "id": "8wccoYDmVDVO"
   },
   "source": [
    "Convert the output labels to integer encoded:"
   ]
  },
  {
   "cell_type": "code",
   "execution_count": 91,
   "metadata": {
    "colab": {
     "base_uri": "https://localhost:8080/"
    },
    "id": "Il8BsTOxVDVO",
    "outputId": "e7eb61b2-6387-499c-a7ef-920d40cd7993"
   },
   "outputs": [
    {
     "data": {
      "text/plain": [
       "list"
      ]
     },
     "execution_count": 91,
     "metadata": {},
     "output_type": "execute_result"
    }
   ],
   "source": [
    "from sklearn.preprocessing import LabelEncoder\n",
    "le = LabelEncoder()\n",
    "y=le.fit_transform(all_label)\n",
    "classes= list(le.classes_)\n",
    "type(labels)"
   ]
  },
  {
   "cell_type": "markdown",
   "metadata": {
    "id": "xLkG3xoHVDVP"
   },
   "source": [
    "Now, convert the integer encoded labels to a one-hot vector since it is a multi-classification problem:"
   ]
  },
  {
   "cell_type": "code",
   "execution_count": null,
   "metadata": {
    "id": "gKz8IkKoVDVP"
   },
   "outputs": [],
   "source": [
    "from keras.utils import np_utils\n",
    "y=np_utils.to_categorical(y, num_classes=len(labels))"
   ]
  },
  {
   "cell_type": "markdown",
   "metadata": {
    "id": "GJnHIuQjVDVP"
   },
   "source": [
    "Reshape the 2D array to 3D since the input to the conv1d must be a 3D array:"
   ]
  },
  {
   "cell_type": "code",
   "execution_count": null,
   "metadata": {
    "id": "4J9_wofFVDVQ"
   },
   "outputs": [],
   "source": [
    "all_wave = np.array(all_wave).reshape(-1,8000,1)"
   ]
  },
  {
   "cell_type": "markdown",
   "metadata": {
    "id": "VhKW07cqVDVQ"
   },
   "source": [
    "**Split into train and validation set**\n",
    "\n",
    "Next, we will train the model on 80% of the data and validate on the remaining 20%:\n"
   ]
  },
  {
   "cell_type": "code",
   "execution_count": null,
   "metadata": {
    "id": "xMOgC_cYVDVR"
   },
   "outputs": [],
   "source": [
    "from sklearn.model_selection import train_test_split\n",
    "x_tr, x_val, y_tr, y_val = train_test_split(np.array(all_wave),np.array(y),stratify=y,test_size = 0.2,random_state=777,shuffle=True)"
   ]
  },
  {
   "cell_type": "markdown",
   "metadata": {
    "id": "5bqEi398VDVR"
   },
   "source": [
    "**Model Architecture for this problem**\n",
    "\n",
    "We will build the speech-to-text model using conv1d. Conv1d is a convolutional neural network which performs the convolution along only one dimension. "
   ]
  },
  {
   "cell_type": "markdown",
   "metadata": {
    "id": "Z93-K5A4VDVR"
   },
   "source": [
    "**Model building**\n",
    "\n",
    "Let us implement the model using Keras functional API."
   ]
  },
  {
   "cell_type": "code",
   "execution_count": null,
   "metadata": {
    "colab": {
     "base_uri": "https://localhost:8080/"
    },
    "id": "rByRV5zmVDVR",
    "outputId": "bc8f8576-06f9-4a50-e7ae-70e1b4bf44a4"
   },
   "outputs": [],
   "source": [
    "from keras.layers import Dense, Dropout, Flatten, Conv1D, Input, MaxPooling1D\n",
    "from keras.models import Model\n",
    "from keras.callbacks import EarlyStopping, ModelCheckpoint\n",
    "from keras import backend as K\n",
    "K.clear_session()\n",
    "\n",
    "inputs = Input(shape=(8000,1))\n",
    "\n",
    "#First Conv1D layer\n",
    "conv = Conv1D(8,13, padding='valid', activation='relu', strides=1)(inputs)\n",
    "conv = MaxPooling1D(3)(conv)\n",
    "conv = Dropout(0.3)(conv)\n",
    "\n",
    "#Second Conv1D layer\n",
    "conv = Conv1D(16, 11, padding='valid', activation='relu', strides=1)(conv)\n",
    "conv = MaxPooling1D(3)(conv)\n",
    "conv = Dropout(0.3)(conv)\n",
    "\n",
    "#Third Conv1D layer\n",
    "conv = Conv1D(32, 9, padding='valid', activation='relu', strides=1)(conv)\n",
    "conv = MaxPooling1D(3)(conv)\n",
    "conv = Dropout(0.3)(conv)\n",
    "\n",
    "#Fourth Conv1D layer\n",
    "conv = Conv1D(64, 7, padding='valid', activation='relu', strides=1)(conv)\n",
    "conv = MaxPooling1D(3)(conv)\n",
    "conv = Dropout(0.3)(conv)\n",
    "\n",
    "#Flatten layer\n",
    "conv = Flatten()(conv)\n",
    "\n",
    "#Dense Layer 1\n",
    "conv = Dense(256, activation='relu')(conv)\n",
    "conv = Dropout(0.3)(conv)\n",
    "\n",
    "#Dense Layer 2\n",
    "conv = Dense(128, activation='relu')(conv)\n",
    "conv = Dropout(0.3)(conv)\n",
    "\n",
    "outputs = Dense(len(labels), activation='softmax')(conv)\n",
    "\n",
    "model = Model(inputs, outputs)\n",
    "model.summary()"
   ]
  },
  {
   "cell_type": "markdown",
   "metadata": {
    "id": "3Rbfe9b0VDVS"
   },
   "source": [
    "Define the loss function to be categorical cross-entropy since it is a multi-classification problem:"
   ]
  },
  {
   "cell_type": "code",
   "execution_count": null,
   "metadata": {
    "id": "4JO7e5ktVDVS"
   },
   "outputs": [],
   "source": [
    "model.compile(loss='categorical_crossentropy',optimizer='adam',metrics=['accuracy'])"
   ]
  },
  {
   "cell_type": "markdown",
   "metadata": {
    "id": "5Ry3Vx_mVDVT"
   },
   "source": [
    "Early stopping and model checkpoints are the callbacks to stop training the neural network at the right time and to save the best model after every epoch:"
   ]
  },
  {
   "cell_type": "code",
   "execution_count": null,
   "metadata": {
    "id": "ZKy96wwLVDVT"
   },
   "outputs": [],
   "source": [
    "es = EarlyStopping(monitor='val_loss', mode='min', verbose=1, patience=5, min_delta=0.0001) \n",
    "mc = ModelCheckpoint('best_model.hdf5', monitor='val_acc', verbose=1, save_best_only=True, mode='max')"
   ]
  },
  {
   "cell_type": "markdown",
   "metadata": {
    "id": "CZFVT1MNVDVT"
   },
   "source": [
    "Let us train the model on a batch size of 32 and evaluate the performance on the holdout set:"
   ]
  },
  {
   "cell_type": "code",
   "execution_count": null,
   "metadata": {
    "colab": {
     "base_uri": "https://localhost:8080/"
    },
    "id": "nTxvY0SRVDVT",
    "outputId": "51e4b263-c9ce-44ee-c96c-165b1747a060"
   },
   "outputs": [],
   "source": [
    "# execution time 258s\n",
    "history=model.fit(x_tr, y_tr ,epochs=10, callbacks=[es,mc], batch_size=32, validation_data=(x_val,y_val))"
   ]
  },
  {
   "cell_type": "code",
   "execution_count": null,
   "metadata": {},
   "outputs": [],
   "source": [
    "# save model\n",
    "model.save('nlp-model.h5')"
   ]
  },
  {
   "cell_type": "code",
   "execution_count": null,
   "metadata": {},
   "outputs": [],
   "source": [
    "# verify \n",
    "!ls -lh nlp-model.h5"
   ]
  },
  {
   "cell_type": "markdown",
   "metadata": {
    "id": "dmFKmJMBVDVU"
   },
   "source": [
    "**Diagnostic plot**\n",
    "\n",
    "I’m going to lean on visualization again to understand the performance of the model over a period of time:"
   ]
  },
  {
   "cell_type": "code",
   "execution_count": null,
   "metadata": {
    "colab": {
     "base_uri": "https://localhost:8080/",
     "height": 265
    },
    "id": "m59CuQffVDVU",
    "outputId": "ceb31709-5af0-47b3-bdde-a5e6cbac6c57"
   },
   "outputs": [],
   "source": [
    "from matplotlib import pyplot\n",
    "pyplot.plot(history.history['loss'], label='train_loss')\n",
    "pyplot.plot(history.history['val_loss'], label='test_loss')\n",
    "plt.plot(history.history['accuracy'], label='train_acc')\n",
    "plt.plot(history.history['val_accuracy'], label='val_acc')\n",
    "pyplot.legend()\n",
    "pyplot.show()"
   ]
  },
  {
   "cell_type": "markdown",
   "metadata": {
    "id": "i2wwJyKcVDVU"
   },
   "source": [
    "**Loading the best model**"
   ]
  },
  {
   "cell_type": "code",
   "execution_count": null,
   "metadata": {
    "colab": {
     "base_uri": "https://localhost:8080/",
     "height": 330
    },
    "id": "bTFy_piaVDVV",
    "outputId": "f05274a3-7751-442d-b608-36babc1eb7cd"
   },
   "outputs": [],
   "source": [
    "from keras.models import load_model\n",
    "model=load_model('nlp-model.h5')"
   ]
  },
  {
   "cell_type": "markdown",
   "metadata": {
    "id": "sBc6L2bsVDVV"
   },
   "source": [
    "Define the function that predicts text for the given audio:"
   ]
  },
  {
   "cell_type": "code",
   "execution_count": null,
   "metadata": {
    "id": "hJsFQBK3VDVV"
   },
   "outputs": [],
   "source": [
    "def predict(audio):\n",
    "    prob=model.predict(audio.reshape(1,8000,1))\n",
    "    index=np.argmax(prob[0])\n",
    "    return prob, classes[index]"
   ]
  },
  {
   "cell_type": "markdown",
   "metadata": {
    "id": "foZlaOhcVDVV"
   },
   "source": [
    "Prediction time! Make predictions on the validation data:"
   ]
  },
  {
   "cell_type": "code",
   "execution_count": 128,
   "metadata": {
    "colab": {
     "base_uri": "https://localhost:8080/",
     "height": 235
    },
    "id": "i1AxW5OWVDVX",
    "outputId": "f00d6df2-f8a7-4cf2-e0ed-e336b5401e9b"
   },
   "outputs": [
    {
     "name": "stdout",
     "output_type": "stream",
     "text": [
      "Number of testing examples - len(x_val): 76\n",
      "Random index selected: 58\n",
      "Shape of samples:  (8000,)\n",
      "Data - x_val[index]: [[-3.0517578e-05]\n",
      " [-2.4414062e-04]\n",
      " [-4.2724609e-04]\n",
      " ...\n",
      " [ 8.2397461e-04]\n",
      " [ 8.2397461e-04]\n",
      " [ 5.1879883e-04]]\n",
      "Randomly selected audio: no\n",
      "Prediction output:  [[0.42285758 0.5771424 ]]\n",
      "Predicted class: yes\n"
     ]
    },
    {
     "data": {
      "text/html": [
       "\n",
       "                <audio  controls=\"controls\" >\n",
       "                    <source src=\"data:audio/wav;base64,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\" type=\"audio/wav\" />\n",
       "                    Your browser does not support the audio element.\n",
       "                </audio>\n",
       "              "
      ],
      "text/plain": [
       "<IPython.lib.display.Audio object>"
      ]
     },
     "execution_count": 128,
     "metadata": {},
     "output_type": "execute_result"
    }
   ],
   "source": [
    "import random\n",
    "print(\"Number of testing examples - len(x_val):\", len(x_val))\n",
    "index=random.randint(0,len(x_val)-1)\n",
    "print(\"Random index selected:\", index)\n",
    "samples=x_val[index].ravel() # x_val[index] shape: (8000, 1), \"samples\" shape: (8000,)\n",
    "print(\"Shape of samples: \", samples.shape)\n",
    "# prob, classes = predict(samples)\n",
    "print(\"Data - x_val[index]:\", x_val[index])\n",
    "print(\"Randomly selected audio:\",classes[np.argmax(y_val[index])])\n",
    "\n",
    "pred, predClass = predict(samples)\n",
    "print(\"Prediction output: \", pred)\n",
    "print(\"Predicted class:\", predClass)\n",
    "\n",
    "ipd.Audio(samples, rate=8000)"
   ]
  },
  {
   "cell_type": "code",
   "execution_count": null,
   "metadata": {},
   "outputs": [],
   "source": [
    "# TODO\n",
    "# 1. Loop through training examples, get accuracy on 200 examples\n",
    "# 2. GitHub DSS login\n",
    "# 3. Confirm Conv2D number of parameters\n",
    "# 4. Softmax prediction output\n",
    "# 5. Datasets x3 20/200/2000 examples"
   ]
  },
  {
   "cell_type": "code",
   "execution_count": 61,
   "metadata": {},
   "outputs": [
    {
     "name": "stdout",
     "output_type": "stream",
     "text": [
      "(1, 2)\n",
      "[[0.9933895  0.00661047]]\n",
      "y\n",
      "(8000,)\n"
     ]
    }
   ],
   "source": [
    "print(prob.shape)\n",
    "print(prob)\n",
    "print(classes)\n",
    "y_val[index]\n",
    "labels\n",
    "print(samples.shape)"
   ]
  },
  {
   "cell_type": "code",
   "execution_count": null,
   "metadata": {
    "colab": {
     "base_uri": "https://localhost:8080/"
    },
    "id": "G_X2VM9RA6zM",
    "outputId": "4d35b2de-e7ae-4564-d5fa-4bf0f65ca07d"
   },
   "outputs": [],
   "source": [
    "# x_val[index].shape\n",
    "# (8000, 1)\n",
    "# x_val[index]: x_val[index]: [[ 0.00422602]\n",
    "# [ 0.01268432]\n",
    "# [ 0.00283716]\n",
    "# ...\n",
    "# xr = x_val[index].ravel()\n",
    "# type(xr) # numpy.ndarray\n",
    "# type(x_val[index]) # numpy.ndarray\n",
    "# xr.shape # (8000,)\n",
    "# xr: array([-0.00036546, -0.00062576,  0.00048751, ..., -0.0003528 ,\n",
    "y_val[index]"
   ]
  }
 ],
 "metadata": {
  "colab": {
   "collapsed_sections": [],
   "name": "NaturalLanguageProcessing.ipynb",
   "provenance": []
  },
  "kernelspec": {
   "display_name": "Python 3",
   "language": "python",
   "name": "python3"
  },
  "language_info": {
   "codemirror_mode": {
    "name": "ipython",
    "version": 3
   },
   "file_extension": ".py",
   "mimetype": "text/x-python",
   "name": "python",
   "nbconvert_exporter": "python",
   "pygments_lexer": "ipython3",
   "version": "3.7.4"
  }
 },
 "nbformat": 4,
 "nbformat_minor": 1
}
